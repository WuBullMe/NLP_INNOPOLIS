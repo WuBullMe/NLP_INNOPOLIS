{
  "cells": [
    {
      "cell_type": "markdown",
      "metadata": {
        "id": "RKboZnAdgrRM"
      },
      "source": [
        "# [NLP] Assignment 1: Tokenization\n",
        "\n",
        "In this assignment, you need to tokenize the text of the Twitter(X) users posts(tweets). The assignment consists of two tasks. When you finish all the tasks, create a GitHub repository for this assignment (you can use this repo later for the other assignments) and submit this notebook in the repository. Leave `requirements.txt` file if your code requires additional installations. Submit the link to the repository in Moodle.\n",
        "\n",
        "The [data](https://drive.google.com/file/d/15x_wPAflvYQ2Xh38iNQGrqUIWLj5l5Nw/view?usp=share_link) contains 5 files whereby each contains 44 tweets. Each tweet is separated by a newline."
      ]
    },
    {
      "cell_type": "markdown",
      "metadata": {
        "id": "aLDjjAvemUP_"
      },
      "source": [
        "## Task 1. Tokenize some tweets manually (20 points)\n",
        "\n",
        "As a first task you need to tokenize first 15 tweets from `file2` by hand. This will allow you to understand the problem from a linguistic point of view. The guidelines for tweet tokenization are as follows:\n",
        "\n",
        "- Each smiley is a separate token\n",
        "- Each hashtag is an individual token. Each user reference is an individual token\n",
        "- If a word has spaces between them then it is converted to a single token\n",
        "- All punctuations are individual tokens. This includes double-quotes and single quotes also\n",
        "- A URL is a single token\n",
        "\n",
        "Example of output\n",
        "\n",
        "    Input tweet\n",
        "    @xfranman Old age has made N A T O!\n",
        "\n",
        "    Tokenized tweet (separated by comma)\n",
        "    @xfranman , Old , age , has , made , NATO , !"
      ]
    },
    {
      "cell_type": "markdown",
      "metadata": {
        "id": "7KKKwTidnzUw"
      },
      "source": [
        "\n",
        "    1. Input tweet\n",
        "    ...\n",
        "    1. Tokenized tweet\n",
        "    ...\n",
        "\n",
        "    2. Input tweet\n",
        "    ...\n",
        "    2. Tokenized tweet\n",
        "    ..."
      ]
    },
    {
      "cell_type": "markdown",
      "metadata": {
        "id": "-2J2AD2nmUhi"
      },
      "source": [
        "## Task 2. Implement [Byte-Pair Encoding(BPE)](https://arxiv.org/pdf/1508.07909.pdf) Tokenizer (80 points)\n",
        "\n",
        "### Task 2.1. Implementation (60 points)\n",
        "\n",
        "Implement the tokenizer as the BPETokenizer class:\n",
        "* Implement `train` method that learns merges and builds the vocabulary of the specified `vocab_size` (25 points).\n",
        "* Implement `tokenize` method that should tokenize the text according to the learnt merges (25 points).\n",
        "\n",
        "Your code should have docstrings and comments (10 points)."
      ]
    },
    {
      "cell_type": "code",
      "source": [
        "!gdown https://drive.google.com/file/d/15x_wPAflvYQ2Xh38iNQGrqUIWLj5l5Nw/view?usp=share_link --fuzzy"
      ],
      "metadata": {
        "colab": {
          "base_uri": "https://localhost:8080/"
        },
        "id": "XUBqAKDQV0jF",
        "outputId": "03595bed-8510-4f7c-9010-e5db9526b9ab"
      },
      "execution_count": 4,
      "outputs": [
        {
          "output_type": "stream",
          "name": "stdout",
          "text": [
            "Downloading...\n",
            "From: https://drive.google.com/uc?id=15x_wPAflvYQ2Xh38iNQGrqUIWLj5l5Nw\n",
            "To: /content/Assignment1_data.zip\n",
            "\r  0% 0.00/15.6k [00:00<?, ?B/s]\r100% 15.6k/15.6k [00:00<00:00, 35.3MB/s]\n"
          ]
        }
      ]
    },
    {
      "cell_type": "code",
      "source": [
        "!unzip Assignment1_data.zip -d data"
      ],
      "metadata": {
        "colab": {
          "base_uri": "https://localhost:8080/"
        },
        "id": "n3brSDVHV8Z8",
        "outputId": "b359076f-ac57-4fef-e811-7d6e50f8f913"
      },
      "execution_count": 6,
      "outputs": [
        {
          "output_type": "stream",
          "name": "stdout",
          "text": [
            "Archive:  Assignment1_data.zip\n",
            "  inflating: data/file5              \n",
            "  inflating: data/__MACOSX/._file5   \n",
            "  inflating: data/file4              \n",
            "  inflating: data/__MACOSX/._file4   \n",
            "  inflating: data/file3              \n",
            "  inflating: data/__MACOSX/._file3   \n",
            "  inflating: data/file2              \n",
            "  inflating: data/__MACOSX/._file2   \n",
            "  inflating: data/file1              \n",
            "  inflating: data/__MACOSX/._file1   \n"
          ]
        }
      ]
    },
    {
      "cell_type": "code",
      "execution_count": 30,
      "metadata": {
        "id": "NIprpUq04VYO"
      },
      "outputs": [],
      "source": [
        "from typing import List\n",
        "import nltk\n",
        "nltk.download('punkt', quiet=True)\n",
        "\n",
        "class BPETokenizer:\n",
        "\n",
        "    def __init__(self, vocab_size: int) -> None:\n",
        "        \"\"\"\n",
        "            Init function to set vocab_size\n",
        "        \"\"\"\n",
        "        self.vocab_size = vocab_size\n",
        "\n",
        "\n",
        "    def train(self, corpus: List[str]) -> None:\n",
        "        \"\"\"\n",
        "            Main function to train BPE\n",
        "        \"\"\"\n",
        "        self.word_frequency = {}\n",
        "        self.vocab = []\n",
        "        self.tokenized = {}\n",
        "\n",
        "        for line in corpus:\n",
        "            words = nltk.word_tokenize(line)\n",
        "            for word in words:\n",
        "                if word not in self.word_frequency:\n",
        "                    self.word_frequency[word] = 0\n",
        "                self.word_frequency[word] += 1\n",
        "\n",
        "        for word in self.word_frequency:\n",
        "            self.tokenized[word] = []\n",
        "            for i in range(len(word)):\n",
        "                c = word[i]\n",
        "                if c not in self.vocab:\n",
        "                    self.vocab.append(c)\n",
        "                self.tokenized[word].append(c)\n",
        "\n",
        "        num_it = max(0, self.vocab_size - len(self.vocab))\n",
        "        self.num_it = num_it\n",
        "        for _ in range(num_it):\n",
        "            best_pair = self.get_most_freq_pair()\n",
        "            if best_pair is None:\n",
        "                break\n",
        "            self.vocab.append(best_pair)\n",
        "            self.add(best_pair[0], best_pair[1])\n",
        "\n",
        "    def add(self, part1, part2):\n",
        "        \"\"\"\n",
        "            Add new pair of (part1, part2) to BPE\n",
        "        \"\"\"\n",
        "        for word, freq in self.word_frequency.items():\n",
        "            tokens = self.tokenized[word]\n",
        "            i = 0\n",
        "            while i + 1 < len(tokens):\n",
        "                if tokens[i] == part1 and tokens[i + 1] == part2:\n",
        "                    tokens = tokens[:i] + [part1 + part2] + tokens[i + 2:]\n",
        "                else:\n",
        "                    i += 1\n",
        "            self.tokenized[word] = tokens\n",
        "\n",
        "    def get_most_freq_pair(self):\n",
        "        \"\"\"\n",
        "            Return the most frequency pair of tokenized words\n",
        "        \"\"\"\n",
        "        bp = {}\n",
        "        for word, freq in self.word_frequency.items():\n",
        "            tokens = self.tokenized[word]\n",
        "            for i in range(len(tokens) - 1):\n",
        "                if (tokens[i], tokens[i + 1]) not in bp:\n",
        "                    bp[(tokens[i], tokens[i + 1])] = 0\n",
        "                bp[(tokens[i], tokens[i + 1])] += freq\n",
        "\n",
        "        best_pair = None\n",
        "        max_freq = -1\n",
        "        for pair, freq in bp.items():\n",
        "            if freq > max_freq:\n",
        "                max_freq = freq\n",
        "                best_pair = pair\n",
        "\n",
        "        return best_pair\n",
        "\n",
        "\n",
        "    def tokenize(self, text: str) -> List[str]:\n",
        "        \"\"\"\n",
        "            Return the tokenized text\n",
        "        \"\"\"\n",
        "        words = nltk.word_tokenize(text)\n",
        "        res = []\n",
        "        for word in words:\n",
        "            tokens = []\n",
        "            for c in word:\n",
        "                tokens.append(c)\n",
        "            for i in range(self.vocab_size - self.num_it, self.vocab_size):\n",
        "                pair = self.vocab[i]\n",
        "\n",
        "                j = 0\n",
        "                while j + 1 < len(tokens):\n",
        "                    if tokens[j] == pair[0] and tokens[j + 1] == pair[1]:\n",
        "                        tokens = tokens[:j] + [pair[0] + pair[1]] + tokens[j + 2:]\n",
        "                    else:\n",
        "                        j += 1\n",
        "            res.extend(tokens)\n",
        "\n",
        "        return res"
      ]
    },
    {
      "cell_type": "markdown",
      "metadata": {
        "id": "VujXJCp74VYP"
      },
      "source": [
        "### Task 2.2. Analysis on Tweets Dataset (10 points)\n",
        "\n",
        "Train the BPE tokenizer on the tweets dataset. Try to tokenize the tweets with the tokenizer of different `vocab_size`. For example, train the BPE tokenizer with `vocab_size` of [base_vocab_size, 250, 500, 750, 1000]. Plot the dependency of the average length of the tokenized tweet by `vocab_size` to analyze how `vocab_size` affects the length of the tokenized tweet on average. Tell what `vocab_size` is preferrable and why."
      ]
    },
    {
      "cell_type": "code",
      "source": [
        "import os\n",
        "\n",
        "data = []\n",
        "\n",
        "for i in range(1, 6):\n",
        "    path = f\"data/file{i}\"\n",
        "    with open(path, 'r') as f:\n",
        "        data.extend(f.readlines())"
      ],
      "metadata": {
        "id": "GNfrezsXCoUo"
      },
      "execution_count": 11,
      "outputs": []
    },
    {
      "cell_type": "code",
      "execution_count": 31,
      "metadata": {
        "id": "ALA9PKvt4VYQ"
      },
      "outputs": [],
      "source": [
        "vocab_sizes = [100, 250, 500, 750, 1000]\n",
        "average_length = []\n",
        "for vocab_size in vocab_sizes:\n",
        "    bpe = BPETokenizer(vocab_size=vocab_size)\n",
        "    bpe.train(data)\n",
        "    tokenized = []\n",
        "    for sent in data:\n",
        "        tokenized.extend(bpe.tokenize(sent))\n",
        "\n",
        "\n",
        "    lengths = [len(t) for t in tokenized]\n",
        "    average_length.append(sum(lengths) / len(lengths))"
      ]
    },
    {
      "cell_type": "code",
      "source": [
        "import matplotlib.pyplot as plt\n",
        "\n",
        "plt.plot(vocab_sizes, average_length)\n",
        "plt.title('dependency of the average length of the tokenized tweet by vocab_size')\n",
        "plt.xlabel('vocab_size')\n",
        "plt.ylabel('average token length')\n",
        "plt.show()"
      ],
      "metadata": {
        "colab": {
          "base_uri": "https://localhost:8080/",
          "height": 472
        },
        "id": "PJRMrwCyFLxx",
        "outputId": "eac13f72-e7c0-4e79-8310-9817da866de9"
      },
      "execution_count": 32,
      "outputs": [
        {
          "output_type": "display_data",
          "data": {
            "text/plain": [
              "<Figure size 640x480 with 1 Axes>"
            ],
            "image/png": "[encoded data removed]"
          },
          "metadata": {}
        }
      ]
    },
    {
      "cell_type": "markdown",
      "metadata": {
        "id": "HxYZivD24VYQ"
      },
      "source": [
        "### Task 2.3. Analysis on Dataset of Different Language (10 points)\n",
        "\n",
        "Find a small dataset of texts in a language other than English. The dataset size should be not greater than several megabytes.\n",
        "\n",
        "Train the BPE tokenizer on the dataset that you found. Try to tokenize the sentences from this dataset with the tokenizer of different `vocab_size`. Plot the dependency of the average length of the tokenized sentence by `vocab_size` to analyze how `vocab_size` affects the length of the tokenized sentence on average.\n",
        "\n",
        "Tell how how the average length of the tokenized sentence differs from the average length of the tokenized tweet. Explain why."
      ]
    },
    {
      "cell_type": "code",
      "execution_count": null,
      "metadata": {
        "id": "z41J2KR84VYQ"
      },
      "outputs": [],
      "source": [
        "# Your code here"
      ]
    }
  ],
  "metadata": {
    "colab": {
      "provenance": []
    },
    "kernelspec": {
      "display_name": "Python 3",
      "name": "python3"
    },
    "language_info": {
      "name": "python"
    }
  },
  "nbformat": 4,
  "nbformat_minor": 0
}